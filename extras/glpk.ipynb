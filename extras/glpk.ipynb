{
 "cells": [
  {
   "cell_type": "markdown",
   "metadata": {},
   "source": [
    "PuLP lets us connect to the GLPK linear programming solver, let's use it."
   ]
  },
  {
   "cell_type": "code",
   "execution_count": 1,
   "metadata": {
    "collapsed": true
   },
   "outputs": [],
   "source": [
    "import numpy as np\n",
    "import pulp\n",
    "import random\n",
    "\n",
    "random.seed(0)"
   ]
  },
  {
   "cell_type": "markdown",
   "metadata": {},
   "source": [
    "Let's make a timing routine to solve random problems a few times and return their average running time."
   ]
  },
  {
   "cell_type": "code",
   "execution_count": 2,
   "metadata": {
    "collapsed": false
   },
   "outputs": [
    {
     "ename": "ImportError",
     "evalue": "No module named glpkTest",
     "output_type": "error",
     "traceback": [
      "\u001b[1;31m---------------------------------------------------------------------------\u001b[0m",
      "\u001b[1;31mImportError\u001b[0m                               Traceback (most recent call last)",
      "\u001b[1;32m<ipython-input-2-59c680e8299e>\u001b[0m in \u001b[0;36m<module>\u001b[1;34m()\u001b[0m\n\u001b[1;32m----> 1\u001b[1;33m \u001b[1;32mfrom\u001b[0m \u001b[0mglpkTest\u001b[0m \u001b[1;32mimport\u001b[0m \u001b[0mtime_random_mip\u001b[0m\u001b[1;33m\u001b[0m\u001b[0m\n\u001b[0m",
      "\u001b[1;31mImportError\u001b[0m: No module named glpkTest"
     ]
    }
   ],
   "source": [
    "from glpkTest import time_random_mip"
   ]
  },
  {
   "cell_type": "markdown",
   "metadata": {},
   "source": [
    "Run it for an exponentially increasing problem size."
   ]
  },
  {
   "cell_type": "code",
   "execution_count": null,
   "metadata": {
    "collapsed": false
   },
   "outputs": [],
   "source": [
    "import numpy as np\n",
    "import matplotlib.pyplot as plt\n",
    "%matplotlib inline\n",
    "\n",
    "sizes = [int(1.4**i) for i in range(3, 25)]\n",
    "dur = [time_random_mip(s) for s in sizes]\n",
    "\n",
    "plt.plot(sizes,dur)\n",
    "plt.show()"
   ]
  },
  {
   "cell_type": "markdown",
   "metadata": {},
   "source": [
    "Make a simple mixed integer program:\n",
    "$$ \n",
    "\\begin{align}\n",
    "    \\textrm{max}   && 5x_0 + 6x_1 & \\\\\n",
    "    \\textrm{s.t.}  && x_0 + 3x_1 & \\leq 10 \\\\\n",
    "                   && x_0 - x_1 & \\leq 2 \\\\\n",
    "                   && x_0 & \\geq 0 \\\\\n",
    "                   && x_1 & \\geq 0 \\\\\n",
    "\\end{align}\n",
    "$$"
   ]
  },
  {
   "cell_type": "markdown",
   "metadata": {},
   "source": [
    "Declare Variables"
   ]
  },
  {
   "cell_type": "code",
   "execution_count": null,
   "metadata": {
    "collapsed": true
   },
   "outputs": [],
   "source": [
    "prob = pulp.LpProblem(\"Sample Problem\", pulp.LpMaximize)\n",
    "\n",
    "x0 = pulp.LpVariable(\"x0\", 0, 10000)\n",
    "x1 = pulp.LpVariable(\"x1\", 0, 10000, cat = 'Integer')"
   ]
  },
  {
   "cell_type": "markdown",
   "metadata": {},
   "source": [
    "Add objective function."
   ]
  },
  {
   "cell_type": "code",
   "execution_count": null,
   "metadata": {
    "collapsed": true
   },
   "outputs": [],
   "source": [
    "prob += 5*x0 + 6*x1"
   ]
  },
  {
   "cell_type": "markdown",
   "metadata": {},
   "source": [
    "Add constraints."
   ]
  },
  {
   "cell_type": "code",
   "execution_count": null,
   "metadata": {
    "collapsed": true
   },
   "outputs": [],
   "source": [
    "prob += x0 + 3*x1 <= 11\n",
    "prob += x0 - x1 <= 2.5\n",
    "prob += x0 >= 0\n",
    "prob += x1 >= 0"
   ]
  },
  {
   "cell_type": "markdown",
   "metadata": {},
   "source": [
    "Solve:"
   ]
  },
  {
   "cell_type": "code",
   "execution_count": null,
   "metadata": {
    "collapsed": false
   },
   "outputs": [],
   "source": [
    "stats = prob.solve(pulp.GLPK(msg=0))\n",
    "pulp.LpStatus[stats]"
   ]
  },
  {
   "cell_type": "markdown",
   "metadata": {},
   "source": [
    "Print results."
   ]
  },
  {
   "cell_type": "code",
   "execution_count": null,
   "metadata": {
    "collapsed": false
   },
   "outputs": [],
   "source": [
    "print(pulp.value(x0)*2, pulp.value(x1))"
   ]
  },
  {
   "cell_type": "markdown",
   "metadata": {},
   "source": [
    "Some format testing.\n",
    "\n",
    "* Make something to solve it.\n",
    "\n",
    "     >_I have a problem_\n",
    "\n",
    "* Quickly.\n",
    "\n",
    "Yep\n",
    "\n",
    "I get 10 times more traffic from [Google] [1] than from\n",
    "[Yahoo] [2] or [MSN] [3].\n",
    "\n",
    "  [1]: http://google.com        \"Google\"\n",
    "  [2]: http://search.yahoo.com/  \"Yahoo Search\"\n",
    "  [3]: http://search.msn.com/    \"MSN Search\"\n",
    "  \n",
    "|a  |b  |c  |d  |e  |\n",
    "|---|---|---|---|---|\n",
    "| 1 | 8 | 4 | 4 | 2 |\n",
    "| 6 | 4 | 8 | 2 | 3 |\n",
    "| 3 | 4 | 6 | 3 | 4 |"
   ]
  }
 ],
 "metadata": {
  "kernelspec": {
   "display_name": "Python 2",
   "language": "python",
   "name": "python2"
  },
  "language_info": {
   "codemirror_mode": {
    "name": "ipython",
    "version": 2
   },
   "file_extension": ".py",
   "mimetype": "text/x-python",
   "name": "python",
   "nbconvert_exporter": "python",
   "pygments_lexer": "ipython2",
   "version": "2.7.11"
  }
 },
 "nbformat": 4,
 "nbformat_minor": 0
}
