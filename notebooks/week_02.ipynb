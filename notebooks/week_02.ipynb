{
 "cells": [
  {
   "cell_type": "markdown",
   "metadata": {},
   "source": [
    "The boring stuff.\n",
    "\n",
    "Before we can run forward and do all of the fun data analysis and visualization tasks from week 1, we should concentrate on some python fundamentals: variables, data types, and containers."
   ]
  },
  {
   "cell_type": "markdown",
   "metadata": {},
   "source": [
    "Any named piece of data in python is a variable."
   ]
  },
  {
   "cell_type": "code",
   "execution_count": 1,
   "metadata": {
    "collapsed": false
   },
   "outputs": [],
   "source": [
    "a = 5"
   ]
  },
  {
   "cell_type": "markdown",
   "metadata": {},
   "source": [
    "In the above code, a is the variable name, and with the = operator, we assign a value of 5 to it."
   ]
  },
  {
   "cell_type": "code",
   "execution_count": 2,
   "metadata": {
    "collapsed": false
   },
   "outputs": [
    {
     "name": "stdout",
     "output_type": "stream",
     "text": [
      "We can print its value  5\n",
      "We can even perform simple operations with it:  25\n",
      "But what type of variable is is? <type 'int'>\n"
     ]
    }
   ],
   "source": [
    "print \"We can print its value \", a\n",
    "print \"We can even perform simple operations with it: \", a*a\n",
    "print \"But what type of variable is is?\", type(a)"
   ]
  },
  {
   "cell_type": "markdown",
   "metadata": {},
   "source": [
    "In technical terms, a variable is a symbol that tells python to look at a certain location in RAM and interpret the 1s and 0s there in a specific way.  For our integer (int) a, we tell python that the 32 bits at a's location will be 0000 0000 0000 0000 0000 0000 0000 0101.  Python hides this from us because who really needs to know binary anymore?\n",
    "\n",
    "Unfortuntately, ints don't always behave:"
   ]
  },
  {
   "cell_type": "code",
   "execution_count": 3,
   "metadata": {
    "collapsed": false
   },
   "outputs": [
    {
     "name": "stdout",
     "output_type": "stream",
     "text": [
      "2\n"
     ]
    }
   ],
   "source": [
    "print a / 2"
   ]
  },
  {
   "cell_type": "markdown",
   "metadata": {},
   "source": [
    "Since 5/2 is 2.5, what gives?  Integer division, in every computer language, drops the remainder.  If we want to divide a as a real number (i.e. a floating point number), we can do any of the following."
   ]
  },
  {
   "cell_type": "code",
   "execution_count": 4,
   "metadata": {
    "collapsed": false
   },
   "outputs": [
    {
     "name": "stdout",
     "output_type": "stream",
     "text": [
      "2.5\n",
      "2.5\n",
      "2.5\n",
      "2.5\n",
      "2.5\n"
     ]
    }
   ],
   "source": [
    "print float(a) / 2\n",
    "print 1.0*a / 2\n",
    "print a / 2.0\n",
    "print a / 2.\n",
    "print a / float(2)"
   ]
  },
  {
   "cell_type": "markdown",
   "metadata": {},
   "source": [
    "Integer division is when python divides an integer by an integer.  Floating point (numbers with decimal places) division occurs whenever you have float/float, int/float or float/int.\n",
    "\n",
    "The primitive data types are strings, floats, booleans, and integers.  Primitive here means simple singular items that python understands without including a library."
   ]
  },
  {
   "cell_type": "code",
   "execution_count": 5,
   "metadata": {
    "collapsed": false
   },
   "outputs": [
    {
     "name": "stdout",
     "output_type": "stream",
     "text": [
      "<type 'str'>\n",
      "<type 'float'>\n",
      "<type 'bool'>\n",
      "<type 'int'>\n"
     ]
    }
   ],
   "source": [
    "print type(\"hello\")\n",
    "print type(5.3)\n",
    "print type(True)\n",
    "print type(7)"
   ]
  },
  {
   "cell_type": "markdown",
   "metadata": {},
   "source": [
    "We've gone over integers.  Any time you write a number in python without a decimal point, it assumes that you want it to be stored as an integer.  Floats are what you get whenever you include a decimal point OR a power of ten.  For example:"
   ]
  },
  {
   "cell_type": "code",
   "execution_count": 4,
   "metadata": {
    "collapsed": false
   },
   "outputs": [
    {
     "name": "stdout",
     "output_type": "stream",
     "text": [
      "<type 'float'>\n",
      "<type 'float'>\n",
      "<type 'float'>\n"
     ]
    }
   ],
   "source": [
    "b = 100.0\n",
    "print type(b)\n",
    "c = 1.5e2\n",
    "print type(c)\n",
    "print type(b-c)"
   ]
  },
  {
   "cell_type": "markdown",
   "metadata": {},
   "source": [
    "Strings normally get full chapters in text books because there are an infinite number of ways to interpret 1s and 0s into letters.  The first modern computer languages were written in the US, on systems that had problems storing data in in more than 7 bits.  128 discrete values can fit in 7 bits, and that Americentric character set is called ASCII.  You can see its elements here: https://s-media-cache-ak0.pinimg.com/originals/56/b9/14/56b914ac12fe39cee5ec607d6e022f6f.jpg\n",
    "\n",
    "In python 2.7, strings written in matching single or double quotes are, by default, considered ascii encoded.\n",
    "\n",
    "To print characters outside of these restrictive 127 characters (like many of our European suppliers), we use unicode.  Unicode has many flavors (imagine the ascii cheat sheet with more pages), but the most common is UTF-8, a flavor that can hold billions of characters, including emojis!  To use unicode, type a string as u\"\" or u''.  You can look up UTF characters at http://www.utf8-chartable.de/unicode-utf8-table.pl."
   ]
  },
  {
   "cell_type": "code",
   "execution_count": 22,
   "metadata": {
    "collapsed": false
   },
   "outputs": [
    {
     "name": "stdout",
     "output_type": "stream",
     "text": [
      "lorem ipsum\n",
      "<type 'str'>\n",
      "\n",
      "Delta Tau Chi (I think): ΔΤχ\n",
      "<type 'unicode'>\n",
      "You can add strings together! Like this.\n",
      "And add lots and lots and lots and lots and lots and lots and lots of strings.\n"
     ]
    }
   ],
   "source": [
    "my_ascii_string = \"lorem ipsum\"\n",
    "print my_ascii_string\n",
    "print type(my_ascii_string)\n",
    "my_unicode_string = u'Delta Tau chi: \\u0394\\u03A4\\u03C7'\n",
    "print \"\\n\", my_unicode_string\n",
    "print type(my_unicode_string)\n",
    "\n",
    "print \"You can add strings together! \" + \"Like this.\"\n",
    "print \"And add\" +\\\n",
    "    \" lots and\" +\\\n",
    "    \" lots and\" +\\\n",
    "    \" lots and\" +\\\n",
    "    \" lots and\" +\\\n",
    "    \" lots and\" +\\\n",
    "    \" lots and\" +\\\n",
    "    \" lots of strings.\""
   ]
  },
  {
   "cell_type": "markdown",
   "metadata": {},
   "source": [
    "My favorite special characters in strings are '\\t' for tab and '\\n' for new line. I will be using them, so let's demonstrate."
   ]
  },
  {
   "cell_type": "code",
   "execution_count": 8,
   "metadata": {
    "collapsed": false
   },
   "outputs": [
    {
     "name": "stdout",
     "output_type": "stream",
     "text": [
      "Column 1 \t Column2 \t Column3 \n",
      "=======\t\t=======\t\t=======\n",
      " Bad data\t 2\t\t 3\n",
      " 4\t\t 5\t\t Done\n",
      "\n",
      "\n",
      "\n",
      " These \n",
      "\t are \n",
      "\t\t each \n",
      "\t\t\t on \n",
      "\t\t\t\t their \n",
      "\t\t\t\t\t own \n",
      "\t\t\t\t\t\t line.\n"
     ]
    }
   ],
   "source": [
    "my_pretty_string = \"Column 1 \\t Column2 \\t Column3 \\n=======\\t\\t=======\\t\\t=======\\n Bad data\\t 2\\t\\t 3\\n 4\\t\\t 5\\t\\t Done\"\n",
    "print my_pretty_string\n",
    "print \"\\n\\n\\n These \\n\\t are \\n\\t\\t each \\n\\t\\t\\t on \\n\\t\\t\\t\\t their \\n\\t\\t\\t\\t\\t own \\n\\t\\t\\t\\t\\t\\t line.\""
   ]
  },
  {
   "cell_type": "markdown",
   "metadata": {},
   "source": [
    "Triple quoted strings mean \"conserve formatting,\" can span multiple lines, and I use them all of the time for SQL queries."
   ]
  },
  {
   "cell_type": "code",
   "execution_count": 9,
   "metadata": {
    "collapsed": false
   },
   "outputs": [
    {
     "name": "stdout",
     "output_type": "stream",
     "text": [
      "\n",
      "    SELECT\n",
      "        *\n",
      "    FROM some_db..some_table WITH(NOLOCK)\n",
      "    WHERE col1 < 4 AND col2 > 11\n",
      "    \n",
      "\n",
      "Note that the \"\"\" \"\"\" string is identical to:\n",
      "\n",
      "\n",
      "    SELECT\n",
      "        *\n",
      "    FROM some_db..some_table WITH(NOLOCK)\n",
      "    WHERE col1 < 4 AND col2 > 11\n",
      "    \n",
      "\n",
      "For those who like their columns narrow: \n",
      "\n",
      "\n",
      "    SELECT\n",
      "        *\n",
      "    FROM some_db..some_table WITH(NOLOCK)\n",
      "    WHERE col1 < 4 AND col2 > 11\n",
      "    \n"
     ]
    }
   ],
   "source": [
    "my_query = \"\"\"\n",
    "    SELECT\n",
    "        *\n",
    "    FROM some_db..some_table WITH(NOLOCK)\n",
    "    WHERE col1 < 4 AND col2 > 11\n",
    "    \"\"\"\n",
    "print my_query\n",
    "print '\\nNote that the \"\"\" \"\"\" string is identical to:\\n'\n",
    "print '\\n    SELECT\\n        *\\n    FROM some_db..some_table WITH(NOLOCK)\\n    WHERE col1 < 4 AND col2 > 11\\n    '\n",
    "print '\\nFor those who like their columns narrow: \\n'\n",
    "print '\\n' +\\\n",
    "        '    SELECT\\n' +\\\n",
    "        '        *\\n' +\\\n",
    "        '    FROM some_db..some_table WITH(NOLOCK)\\n' +\\\n",
    "        '    WHERE col1 < 4 AND col2 > 11\\n' +\\\n",
    "        '    '"
   ]
  },
  {
   "cell_type": "markdown",
   "metadata": {},
   "source": [
    "Most of the time, when we are dealing with data, we have lists of numbers to look at together.  Python has four primitive types of lists.\n",
    "\n",
    "Lists, denoted by [], allow you to insert or delete items, and access them by their index."
   ]
  },
  {
   "cell_type": "code",
   "execution_count": 5,
   "metadata": {
    "collapsed": false
   },
   "outputs": [
    {
     "name": "stdout",
     "output_type": "stream",
     "text": [
      "The whole list:  [1, 7, 3, 9, 2]\n",
      "The list with an additional element:  [1, 7, 3, 9, 2, 6]\n",
      "Just the first element:  1\n",
      "Just the second element:  7\n",
      "The list after we have deleted an element:  [1, 3, 9, 2, 6]\n",
      "The first three elements:  [1, 3, 9]\n"
     ]
    }
   ],
   "source": [
    "my_list = [1,7,3,9,2]\n",
    "print \"The whole list: \", my_list\n",
    "my_list.append(6)\n",
    "print \"The list with an additional element: \", my_list\n",
    "print \"Just the first element: \", my_list[0]\n",
    "print \"Just the second element: \", my_list[1]\n",
    "del my_list[1]\n",
    "print \"The list after we have deleted an element: \", my_list\n",
    "print \"The first three elements: \", my_list[0:3]"
   ]
  },
  {
   "cell_type": "markdown",
   "metadata": {},
   "source": [
    "Got ahead of myself there and used list slices.  A slice is written as a_list[start:stop] where we print all elements starting with the start index, and ending one before the stop index.  \n",
    "\n",
    "You can also do slices that specify increments, like a_list[0:10:2] to print all even indexed elements."
   ]
  },
  {
   "cell_type": "code",
   "execution_count": 6,
   "metadata": {
    "collapsed": false
   },
   "outputs": [
    {
     "name": "stdout",
     "output_type": "stream",
     "text": [
      "The list:  [0, 1, 2, 3, 4, 5, 6, 7, 8, 9]\n",
      "\n",
      "First 5 elements:  [0, 1, 2, 3, 4]\n",
      "First 5 elements, we can leave off the 0:  [0, 1, 2, 3, 4]\n",
      "\n",
      "All even elements,  [0, 2, 4, 6, 8]\n",
      "All odd elements,  [1, 3, 5, 7, 9]\n",
      "\n",
      "Last 5 elements:  [5, 6, 7, 8, 9]\n",
      "Last 5 elements, we can leave off the upper bound:  [5, 6, 7, 8, 9]\n",
      "Last 5 elements, with negative indices!  [5, 6, 7, 8, 9]\n",
      "\n",
      "Number of elements,  10\n",
      "Last element,  9\n",
      "Last element using negative indices:  9\n",
      "\n",
      "All odd elements, counting backwards [9, 7, 5, 3, 1]\n",
      "All even elements, leaving off some indices:  [0, 2, 4, 6, 8]\n",
      "All even elements, leaving off some indices:  [1, 3, 5, 7, 9]\n"
     ]
    }
   ],
   "source": [
    "my_list = range(10)\n",
    "print \"The list: \", my_list\n",
    "\n",
    "print \"\\nFirst 5 elements: \", my_list[0:5]\n",
    "print \"First 5 elements, we can leave off the 0: \", my_list[:5]\n",
    "\n",
    "print \"\\nAll even elements, \", my_list[0:10:2]\n",
    "print \"All odd elements, \", my_list[1:10:2]\n",
    "\n",
    "print \"\\nLast 5 elements: \", my_list[5:10]\n",
    "print \"Last 5 elements, we can leave off the upper bound: \", my_list[5:]\n",
    "print \"Last 5 elements, with negative indices! \", my_list[-5:]\n",
    "\n",
    "print \"\\nNumber of elements, \", len(my_list)\n",
    "print \"Last element, \", my_list[len(my_list) -1]\n",
    "print \"Last element using negative indices: \", my_list[-1]\n",
    "\n",
    "print \"\\nAll odd elements, counting backwards\", my_list[-1:0:-2]\n",
    "print \"All even elements, leaving off some indices: \", my_list[::2]"
   ]
  },
  {
   "cell_type": "markdown",
   "metadata": {},
   "source": [
    "Negative indices count backwards from the end, with -1 being the very last entry in the list.\n",
    "\n",
    "What else can we do with lists?  Let's have python tell us"
   ]
  },
  {
   "cell_type": "code",
   "execution_count": 12,
   "metadata": {
    "collapsed": false
   },
   "outputs": [
    {
     "name": "stdout",
     "output_type": "stream",
     "text": [
      "<type 'list'>\n"
     ]
    },
    {
     "data": {
      "text/plain": [
       "['__add__',\n",
       " '__class__',\n",
       " '__contains__',\n",
       " '__delattr__',\n",
       " '__delitem__',\n",
       " '__delslice__',\n",
       " '__doc__',\n",
       " '__eq__',\n",
       " '__format__',\n",
       " '__ge__',\n",
       " '__getattribute__',\n",
       " '__getitem__',\n",
       " '__getslice__',\n",
       " '__gt__',\n",
       " '__hash__',\n",
       " '__iadd__',\n",
       " '__imul__',\n",
       " '__init__',\n",
       " '__iter__',\n",
       " '__le__',\n",
       " '__len__',\n",
       " '__lt__',\n",
       " '__mul__',\n",
       " '__ne__',\n",
       " '__new__',\n",
       " '__reduce__',\n",
       " '__reduce_ex__',\n",
       " '__repr__',\n",
       " '__reversed__',\n",
       " '__rmul__',\n",
       " '__setattr__',\n",
       " '__setitem__',\n",
       " '__setslice__',\n",
       " '__sizeof__',\n",
       " '__str__',\n",
       " '__subclasshook__',\n",
       " 'append',\n",
       " 'count',\n",
       " 'extend',\n",
       " 'index',\n",
       " 'insert',\n",
       " 'pop',\n",
       " 'remove',\n",
       " 'reverse',\n",
       " 'sort']"
      ]
     },
     "execution_count": 12,
     "metadata": {},
     "output_type": "execute_result"
    }
   ],
   "source": [
    "print type(my_list)\n",
    "dir(my_list)"
   ]
  },
  {
   "cell_type": "markdown",
   "metadata": {},
   "source": [
    "The command dir(my_list) returns all attributes and methods of the list object my_list.  Looks long.\n",
    "\n",
    "The beginning of the list is dominated by names that start and end with double underscores.  While the use of underscores is explained well at https://shahriar.svbtle.com/underscores-in-python, the rule of thumb is that anything with an underscore is for advanced use and should not be touched unless you know exactly what you are doing.\n",
    "\n",
    "So, ignoring all double underscore (aka \"dunder\") methods, we are left with some simple methods.  But what do THEY do?"
   ]
  },
  {
   "cell_type": "code",
   "execution_count": 13,
   "metadata": {
    "collapsed": false
   },
   "outputs": [
    {
     "name": "stdout",
     "output_type": "stream",
     "text": [
      "Help on built-in function count:\n",
      "\n",
      "count(...)\n",
      "    L.count(value) -> integer -- return number of occurrences of value\n",
      "\n"
     ]
    }
   ],
   "source": [
    "help(my_list.count)"
   ]
  },
  {
   "cell_type": "markdown",
   "metadata": {},
   "source": [
    "Most methods in python are documented, meaning that you can do ?<command-name> and learn exactly what it does.  This is super helpful.\n",
    "\n",
    "There are other containers: tuples, sets and dicts.  \n",
    "\n",
    "Tuples work like lists with indices and creation, but they can't be changed once we've made them.  i.e. they have no insert, reverse, pop, sort, or remove commands.  Let's quickly look at one. "
   ]
  },
  {
   "cell_type": "code",
   "execution_count": 7,
   "metadata": {
    "collapsed": false
   },
   "outputs": [
    {
     "name": "stdout",
     "output_type": "stream",
     "text": [
      "The tuple:  (1, 2, 5, 6)\n",
      "Making a tuple out of a list:  (0, 1, 2, 3, 4, 5)\n",
      "Even elements:  (0, 2, 4)\n",
      "Odd elements:  (1, 3, 5)\n",
      "Last element:  5\n"
     ]
    }
   ],
   "source": [
    "my_tuple = (1,2,5,6)\n",
    "print \"The tuple: \", my_tuple\n",
    "\n",
    "my_tuple = tuple([0,1,2,3,4,5])\n",
    "print \"Making a tuple out of a list: \", my_tuple\n",
    "\n",
    "print \"Even elements: \", my_tuple[::2]\n",
    "print \"Odd elements: \", my_tuple[1::2]\n",
    "print \"Last element: \", my_tuple[-1]"
   ]
  },
  {
   "cell_type": "markdown",
   "metadata": {},
   "source": [
    "Remembering that tuples are immutable (cannot be changed), let's try to change one."
   ]
  },
  {
   "cell_type": "code",
   "execution_count": 15,
   "metadata": {
    "collapsed": false
   },
   "outputs": [
    {
     "ename": "TypeError",
     "evalue": "'tuple' object does not support item assignment",
     "output_type": "error",
     "traceback": [
      "\u001b[1;31m---------------------------------------------------------------------------\u001b[0m",
      "\u001b[1;31mTypeError\u001b[0m                                 Traceback (most recent call last)",
      "\u001b[1;32m<ipython-input-15-864b22a78edb>\u001b[0m in \u001b[0;36m<module>\u001b[1;34m()\u001b[0m\n\u001b[1;32m----> 1\u001b[1;33m \u001b[0mmy_tuple\u001b[0m\u001b[1;33m[\u001b[0m\u001b[1;36m1\u001b[0m\u001b[1;33m]\u001b[0m \u001b[1;33m=\u001b[0m \u001b[1;36m6\u001b[0m\u001b[1;33m\u001b[0m\u001b[0m\n\u001b[0m",
      "\u001b[1;31mTypeError\u001b[0m: 'tuple' object does not support item assignment"
     ]
    }
   ],
   "source": [
    "my_tuple[1] = 6"
   ]
  },
  {
   "cell_type": "markdown",
   "metadata": {},
   "source": [
    "It threw an error, saying that you can't delete items from tuples.  Errors in python are your friends and we will definitely talk about them another week."
   ]
  },
  {
   "cell_type": "markdown",
   "metadata": {},
   "source": [
    "Sets are sorted containers of unique items.  You can quickly perform set operations on them (union, difference, intersection)."
   ]
  },
  {
   "cell_type": "code",
   "execution_count": 16,
   "metadata": {
    "collapsed": false
   },
   "outputs": [
    {
     "name": "stdout",
     "output_type": "stream",
     "text": [
      "[2, 1, 1, 3, 1, 1, 3, 1, 2]\n",
      "set([1, 2, 3])\n"
     ]
    }
   ],
   "source": [
    "temp_list = [2, 1, 1, 3, 1, 1, 3, 1, 2]\n",
    "print temp_list\n",
    "\n",
    "my_set = set(temp_list)\n",
    "print my_set"
   ]
  },
  {
   "cell_type": "markdown",
   "metadata": {},
   "source": [
    "What can sets do?"
   ]
  },
  {
   "cell_type": "code",
   "execution_count": 17,
   "metadata": {
    "collapsed": false
   },
   "outputs": [
    {
     "data": {
      "text/plain": [
       "['__and__',\n",
       " '__class__',\n",
       " '__cmp__',\n",
       " '__contains__',\n",
       " '__delattr__',\n",
       " '__doc__',\n",
       " '__eq__',\n",
       " '__format__',\n",
       " '__ge__',\n",
       " '__getattribute__',\n",
       " '__gt__',\n",
       " '__hash__',\n",
       " '__iand__',\n",
       " '__init__',\n",
       " '__ior__',\n",
       " '__isub__',\n",
       " '__iter__',\n",
       " '__ixor__',\n",
       " '__le__',\n",
       " '__len__',\n",
       " '__lt__',\n",
       " '__ne__',\n",
       " '__new__',\n",
       " '__or__',\n",
       " '__rand__',\n",
       " '__reduce__',\n",
       " '__reduce_ex__',\n",
       " '__repr__',\n",
       " '__ror__',\n",
       " '__rsub__',\n",
       " '__rxor__',\n",
       " '__setattr__',\n",
       " '__sizeof__',\n",
       " '__str__',\n",
       " '__sub__',\n",
       " '__subclasshook__',\n",
       " '__xor__',\n",
       " 'add',\n",
       " 'clear',\n",
       " 'copy',\n",
       " 'difference',\n",
       " 'difference_update',\n",
       " 'discard',\n",
       " 'intersection',\n",
       " 'intersection_update',\n",
       " 'isdisjoint',\n",
       " 'issubset',\n",
       " 'issuperset',\n",
       " 'pop',\n",
       " 'remove',\n",
       " 'symmetric_difference',\n",
       " 'symmetric_difference_update',\n",
       " 'union',\n",
       " 'update']"
      ]
     },
     "execution_count": 17,
     "metadata": {},
     "output_type": "execute_result"
    }
   ],
   "source": [
    "dir(set)"
   ]
  },
  {
   "cell_type": "markdown",
   "metadata": {},
   "source": [
    "Almost done, we're up to dicts.  Dicts are basically lists, but instead of indexing them with numbers you can index them with key, value pairs.  Let's look"
   ]
  },
  {
   "cell_type": "code",
   "execution_count": 18,
   "metadata": {
    "collapsed": false
   },
   "outputs": [
    {
     "name": "stdout",
     "output_type": "stream",
     "text": [
      "The dictionary:  {'a': 1, 'b': 2}\n",
      "Just the element associated with key 'a'  1\n",
      "Dictionaries are NOT immutable:  {'a': 13, 'b': 2}\n"
     ]
    }
   ],
   "source": [
    "my_dict = {'a':1, 'b':2}\n",
    "print \"The dictionary: \", my_dict\n",
    "print \"Just the element associated with key 'a' \", my_dict['a']\n",
    "my_dict['a'] = 13\n",
    "print \"Dictionaries are NOT immutable: \", my_dict"
   ]
  },
  {
   "cell_type": "markdown",
   "metadata": {},
   "source": [
    "Keys don't have to be strings, they can be any immutable type."
   ]
  },
  {
   "cell_type": "code",
   "execution_count": 19,
   "metadata": {
    "collapsed": false
   },
   "outputs": [
    {
     "name": "stdout",
     "output_type": "stream",
     "text": [
      "The whole dictionary:  {'a': 1, 3: 3, (1, 2, 3): 5, 'b': 2, 'Heya': 4}\n",
      "A single entry:  4\n",
      "All of the keys:  ['a', 3, (1, 2, 3), 'b', 'Heya']\n",
      "All of the values:  [1, 3, 5, 2, 4]\n"
     ]
    }
   ],
   "source": [
    "my_dict = {'a':1, 'b':2, 3:3, \"Heya\":4, (1,2,3):5}\n",
    "print \"The whole dictionary: \", my_dict\n",
    "print \"A single entry: \", my_dict['Heya']\n",
    "print \"All of the keys: \", my_dict.keys()\n",
    "print \"All of the values: \", my_dict.values()"
   ]
  },
  {
   "cell_type": "markdown",
   "metadata": {},
   "source": [
    "My favorite function that you'll see once you dir() a list is get.  With it, you can ask for an element if it's present, and returns a default value if it isn't.  Like this:"
   ]
  },
  {
   "cell_type": "code",
   "execution_count": 20,
   "metadata": {
    "collapsed": false
   },
   "outputs": [
    {
     "name": "stdout",
     "output_type": "stream",
     "text": [
      "This value is missing:  -9999\n",
      "If we try normal access, we'll get a key error: "
     ]
    },
    {
     "ename": "KeyError",
     "evalue": "'a_big_raise'",
     "output_type": "error",
     "traceback": [
      "\u001b[1;31m---------------------------------------------------------------------------\u001b[0m",
      "\u001b[1;31mKeyError\u001b[0m                                  Traceback (most recent call last)",
      "\u001b[1;32m<ipython-input-20-4e69785ff15a>\u001b[0m in \u001b[0;36m<module>\u001b[1;34m()\u001b[0m\n\u001b[0;32m      1\u001b[0m \u001b[1;32mprint\u001b[0m \u001b[1;34m\"This value is missing: \"\u001b[0m\u001b[1;33m,\u001b[0m \u001b[0mmy_dict\u001b[0m\u001b[1;33m.\u001b[0m\u001b[0mget\u001b[0m\u001b[1;33m(\u001b[0m\u001b[1;34m'a_big_raise'\u001b[0m\u001b[1;33m,\u001b[0m \u001b[1;33m-\u001b[0m\u001b[1;36m9999\u001b[0m\u001b[1;33m)\u001b[0m\u001b[1;33m\u001b[0m\u001b[0m\n\u001b[1;32m----> 2\u001b[1;33m \u001b[1;32mprint\u001b[0m \u001b[1;34m\"If we try normal access, we'll get a key error: \"\u001b[0m\u001b[1;33m,\u001b[0m \u001b[0mmy_dict\u001b[0m\u001b[1;33m[\u001b[0m\u001b[1;34m'a_big_raise'\u001b[0m\u001b[1;33m]\u001b[0m\u001b[1;33m\u001b[0m\u001b[0m\n\u001b[0m",
      "\u001b[1;31mKeyError\u001b[0m: 'a_big_raise'"
     ]
    }
   ],
   "source": [
    "print \"This value is missing: \", my_dict.get('a_big_raise', -9999)\n",
    "print \"If we try normal access, we'll get a key error: \", my_dict['a_big_raise']"
   ]
  }
 ],
 "metadata": {
  "anaconda-cloud": {},
  "kernelspec": {
   "display_name": "Python [default]",
   "language": "python",
   "name": "python2"
  },
  "language_info": {
   "codemirror_mode": {
    "name": "ipython",
    "version": 2
   },
   "file_extension": ".py",
   "mimetype": "text/x-python",
   "name": "python",
   "nbconvert_exporter": "python",
   "pygments_lexer": "ipython2",
   "version": "2.7.12"
  }
 },
 "nbformat": 4,
 "nbformat_minor": 1
}
