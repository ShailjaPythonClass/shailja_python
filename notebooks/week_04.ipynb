{
 "cells": [
  {
   "cell_type": "markdown",
   "metadata": {},
   "source": [
    "Natural language processing in python is generally done with two libraries, nltk and scikit-learn.  We are going to use nltk today.\n",
    "\n",
    "First, we need data to process.  Because we're going to teach our computer to gues if someone is male or female based on their first name, we download a list of 1000 baby names from a really cute web site: https://www.babble.com/pregnancy/1000-most-popular-girl-names/"
   ]
  },
  {
   "cell_type": "code",
   "execution_count": 172,
   "metadata": {
    "collapsed": false
   },
   "outputs": [
    {
     "name": "stdout",
     "output_type": "stream",
     "text": [
      "999 999\n"
     ]
    }
   ],
   "source": [
    "def load_names():        \n",
    "    with open('../sample_data/boys.csv', 'r') as inf:\n",
    "        boys_names = inf.read().split(',\\n')\n",
    "    with open('../sample_data/girls.csv', 'r') as inf:\n",
    "        girls_names = inf.read().split(',\\n')\n",
    "    return boys_names, girls_names\n",
    "\n",
    "try:\n",
    "    import requests\n",
    "    from bs4 import BeautifulSoup\n",
    "\n",
    "    def pull_names():\n",
    "        \"\"\"\n",
    "        Reads 1000 most common American baby names from the internet, \n",
    "\n",
    "        Returns names in two lists: boys_names, girls_names\n",
    "        \"\"\"\n",
    "        site = 'https://www.babble.com/pregnancy/'\n",
    "        boys_url = site + '1000-most-popular-boy-names/'\n",
    "        girls_url = site + '1000-most-popular-girl-names/'\n",
    "\n",
    "        boys_page = requests.get(boys_url)\n",
    "        girls_page = requests.get(girls_url)\n",
    "\n",
    "        def get_name(x):\n",
    "            if x.attrs.get('class', None) == [u'p1'] \\\n",
    "                and x.getText() \\\n",
    "                and x.getText().isalpha():\n",
    "                return x.getText()\n",
    "            return None\n",
    "\n",
    "        boys_soup = BeautifulSoup(boys_page.text, \"html.parser\")\n",
    "        boys_names = [get_name(x) for x in boys_soup.find_all('li')]\n",
    "        boys_names = filter(None, boys_names)\n",
    "\n",
    "        girls_soup = BeautifulSoup(girls_page.text, \"html.parser\")\n",
    "        girls_names = [get_name(x) for x in girls_soup.find_all('li')]\n",
    "        girls_names = filter(None, girls_names)\n",
    "\n",
    "        return boys_names, girls_names    \n",
    "except:\n",
    "    def pull_names():        \n",
    "        return load_names()        \n",
    "        \n",
    "boys, girls = pull_names()\n",
    "print len(boys), len(girls)"
   ]
  },
  {
   "cell_type": "markdown",
   "metadata": {},
   "source": [
    "Wait, what?!\n",
    "\n",
    "We specified a web site, and asked the requests library to download its text contents."
   ]
  },
  {
   "cell_type": "code",
   "execution_count": 157,
   "metadata": {
    "collapsed": false
   },
   "outputs": [
    {
     "name": "stdout",
     "output_type": "stream",
     "text": [
      "<!doctype html>\n",
      "\n",
      "\n",
      "<!--[if lt IE 7]> <html class=\"no-js lt-ie9 lt-ie8 lt-ie7\" lang=\"en-US\"> <![endif]-->\n",
      "<!--[if IE 7]>    <html class=\"no-js lt-ie9 lt-ie8\" lang=\"en-US\"> <![endif]-->\n",
      "<!--[if IE 8]>    <html class=\"no-js lt-ie9\" lang=\"en-US\">\n",
      "\n",
      "\n",
      "\n",
      "\n",
      "</body>\n",
      "</html> <!-- end page -->\r\n",
      "<!-- Performance optimized by W3 Total Cache. Learn more: https://www.w3-edge.com/products/\r\n",
      "\r\n",
      "Object Caching 4277/4642 objects using memcached\r\n",
      "Content Delivery Network via a.dilcdn.com/bl\r\n",
      "\r\n",
      " Served from: www.babble.com @ 2017-04-25 18:00:00 by W3 Total Cache -->\n"
     ]
    }
   ],
   "source": [
    "site = 'https://www.babble.com/pregnancy/'\n",
    "boys_url = site + '1000-most-popular-boy-names/'\n",
    "\n",
    "boys_page = requests.get(boys_url)\n",
    "print boys_page.text[:241] + \"\\n\"*5 + boys_page.text[-300:]"
   ]
  },
  {
   "cell_type": "markdown",
   "metadata": {},
   "source": [
    "After looking at the page source (with inspect in chrome), I see that the names are all list items (shown with <li> tags).\n",
    "\n",
    "I looked at their structure and wrote an inline function to filter out bad list items."
   ]
  },
  {
   "cell_type": "code",
   "execution_count": 158,
   "metadata": {
    "collapsed": false
   },
   "outputs": [],
   "source": [
    "def get_name(x):\n",
    "    \"\"\"\n",
    "    # All names are class p1 i.e. text with a certain look\n",
    "    # Ensure this element has text at all\n",
    "    # Ensure the text is alphabetical\n",
    "    \"\"\"\n",
    "    if x.attrs.get('class', None) == [u'p1'] \\\n",
    "        and x.getText() \\\n",
    "        and x.getText().isalpha():\n",
    "        return x.getText()\n",
    "    return None"
   ]
  },
  {
   "cell_type": "markdown",
   "metadata": {},
   "source": [
    "Then we let an html parser (beautiful soup) read this html contents and parse it into a data object model, essentially a searchable dictionary."
   ]
  },
  {
   "cell_type": "code",
   "execution_count": 159,
   "metadata": {
    "collapsed": false
   },
   "outputs": [
    {
     "name": "stdout",
     "output_type": "stream",
     "text": [
      "[<a class=\"tm-logo\" href=\"https://www.babble.com\" name=\"&amp;lpos=nav-category&amp;lid=nav-category/image/logo\">Babble</a>, <a class=\"tm-social-link tm-social-facebook\" href=\"https://www.facebook.com/Babble\" name=\"&amp;lpos=social/sharebar/top-nav&amp;lid=social/sharebar/top-nav/social_Facebook\" target=\"_blank\">Facebook</a>]\n"
     ]
    }
   ],
   "source": [
    "boys_soup = BeautifulSoup(boys_page.text, \"html.parser\")\n",
    "print boys_soup.find_all('a')[:2]"
   ]
  },
  {
   "cell_type": "markdown",
   "metadata": {
    "collapsed": true
   },
   "source": [
    "I then used list comprehension on the set of all list items, turning any bad items into None.  \n",
    "\n",
    "Then I filtered out all None items."
   ]
  },
  {
   "cell_type": "code",
   "execution_count": 171,
   "metadata": {
    "collapsed": false
   },
   "outputs": [
    {
     "name": "stdout",
     "output_type": "stream",
     "text": [
      "Num None elements: 35\n",
      "[u'Noah', u'Liam', u'Mason', u'Jacob', u'William']\n"
     ]
    }
   ],
   "source": [
    "boys_names = [get_name(x) for x in boys_soup.find_all('li')]\n",
    "print \"Num None elements: %d\" % sum([b is None for b in boys_names])\n",
    "\n",
    "boys_names = filter(None, boys_names)\n",
    "print boys_names[:5]"
   ]
  },
  {
   "cell_type": "markdown",
   "metadata": {
    "collapsed": true
   },
   "source": [
    "Now for the natural language processing.  To process natural language, you have to turn the text into a set of features.  Our feature is going to be simple: what's the name's first letter."
   ]
  },
  {
   "cell_type": "code",
   "execution_count": 162,
   "metadata": {
    "collapsed": false
   },
   "outputs": [
    {
     "name": "stdout",
     "output_type": "stream",
     "text": [
      "[(u'Noah', {'first_letter': u'N'}), (u'Liam', {'first_letter': u'L'}), (u'Mason', {'first_letter': u'M'})]\n"
     ]
    }
   ],
   "source": [
    "def first_letter(name):\n",
    "    return {'first_letter': name[0]}\n",
    "\n",
    "features = [first_letter(name) for name in boys]\n",
    "print zip(boys[:3], features[:3])"
   ]
  },
  {
   "cell_type": "markdown",
   "metadata": {},
   "source": [
    "We want to tell a classifier: these are a bunch of features that belong to boys' names, and these are a bunch for girls (in other words these are a labeled training set).\n",
    "\n",
    "Our third argument is a function that turns a name into a feature dictionary.  This flexibility lets us come up with better features later."
   ]
  },
  {
   "cell_type": "code",
   "execution_count": 163,
   "metadata": {
    "collapsed": false
   },
   "outputs": [],
   "source": [
    "from numpy.random import shuffle, seed\n",
    "\n",
    "def label_names(boys_names, girls_names, func):\n",
    "    \"\"\"\n",
    "    Apply feature function, func to each name, \n",
    "    and return test and training feature sets of the form\n",
    "    feature_vector, label.\n",
    "    \n",
    "    Returns: test_set, training_set\n",
    "    \"\"\"\n",
    "    labeled_names = [(name, 'male') for name in boys_names] + \\\n",
    "                    [(name, 'female') for name in girls_names]\n",
    "\n",
    "    featuresets = [(func(x), g) for (x, g) in labeled_names]\n",
    "    shuffle(featuresets)   \n",
    "    train_set = featuresets[:-len(featuresets)/3]\n",
    "    test_set = featuresets[-len(featuresets)/3:]\n",
    "    return test_set, train_set"
   ]
  },
  {
   "cell_type": "markdown",
   "metadata": {},
   "source": [
    "Now we can do text classification with a very few lines of code, and see how well the first letter of a name predicts a person's gender."
   ]
  },
  {
   "cell_type": "code",
   "execution_count": 170,
   "metadata": {
    "collapsed": false
   },
   "outputs": [
    {
     "name": "stdout",
     "output_type": "stream",
     "text": [
      "Most Informative Features\n",
      "            first_letter = u'H'           female : male   =      2.5 : 1.0\n",
      "            first_letter = u'D'             male : female =      2.4 : 1.0\n",
      "            first_letter = u'T'             male : female =      2.4 : 1.0\n",
      "            first_letter = u'I'             male : female =      2.4 : 1.0\n",
      "            first_letter = u'W'             male : female =      2.0 : 1.0\n",
      "            first_letter = u'A'           female : male   =      1.9 : 1.0\n",
      "            first_letter = u'F'             male : female =      1.8 : 1.0\n",
      "            first_letter = u'V'           female : male   =      1.7 : 1.0\n",
      "            first_letter = u'B'             male : female =      1.7 : 1.0\n",
      "            first_letter = u'S'           female : male   =      1.6 : 1.0\n",
      "Accuracy: 0.599099099099\n"
     ]
    }
   ],
   "source": [
    "import nltk\n",
    "\n",
    "boys, girls = pull_names()\n",
    "seed(20) # so our class has matching results\n",
    "test_set, train_set = label_names(boys, girls, first_letter)\n",
    "\n",
    "classifier = nltk.NaiveBayesClassifier.train(train_set)\n",
    "classifier.show_most_informative_features(10)\n",
    "\n",
    "print \"Accuracy: {}\".format(nltk.classify.accuracy(classifier, test_set))"
   ]
  },
  {
   "cell_type": "markdown",
   "metadata": {},
   "source": [
    "It's really easy to switch to another type of classifier."
   ]
  },
  {
   "cell_type": "code",
   "execution_count": 165,
   "metadata": {
    "collapsed": false
   },
   "outputs": [
    {
     "name": "stdout",
     "output_type": "stream",
     "text": [
      "if first_letter == u'A': return 'female'\n",
      "if first_letter == u'B': return 'male'\n",
      "if first_letter == u'C': return 'male'\n",
      "if first_letter == u'D': return 'male'\n",
      "if first_letter == u'E': return 'female'\n",
      "if first_letter == u'F': return 'male'\n",
      "if first_letter == u'G': return 'male'\n",
      "if first_letter == u'H': return 'female'\n",
      "if first_letter == u'I': return 'male'\n",
      "if first_letter == u'J': return 'male'\n",
      "if first_letter == u'K': return 'female'\n",
      "if first_letter == u'L': return 'female'\n",
      "if first_letter == u'M': return 'female'\n",
      "if first_letter == u'N': return 'female'\n",
      "if first_letter == u'O': return 'male'\n",
      "if first_letter == u'P': return 'female'\n",
      "if first_letter == u'Q': return 'male'\n",
      "if first_letter == u'R': return 'male'\n",
      "if first_letter == u'S': return 'female'\n",
      "if first_letter == u'T': return 'male'\n",
      "if first_letter == u'U': return 'male'\n",
      "if first_letter == u'V': return 'female'\n",
      "if first_letter == u'W': return 'male'\n",
      "if first_letter == u'X': return 'male'\n",
      "if first_letter == u'Y': return 'male'\n",
      "if first_letter == u'Z': return 'female'\n",
      "\n",
      "Accuracy: 0.599099099099\n"
     ]
    }
   ],
   "source": [
    "classifier = nltk.DecisionTreeClassifier.train(train_set)\n",
    "print classifier.pseudocode(depth=2)\n",
    "print \"Accuracy: {}\".format(nltk.classify.accuracy(classifier, test_set))"
   ]
  },
  {
   "cell_type": "markdown",
   "metadata": {},
   "source": [
    "Let's see how it does for the people in our class."
   ]
  },
  {
   "cell_type": "code",
   "execution_count": 166,
   "metadata": {
    "collapsed": false
   },
   "outputs": [
    {
     "name": "stdout",
     "output_type": "stream",
     "text": [
      "Incorrectly classified: Sheng   \n",
      "Incorrectly classified: Claire  \n",
      "Incorrectly classified: Akshay  \n",
      "Incorrectly classified: Catherine\n",
      "Incorrectly classified: Rhonda  \n",
      "\n",
      "\n"
     ]
    }
   ],
   "source": [
    "def test_our_class(classifier, func):\n",
    "    py_names = ['James', 'Shailja', 'Chris', 'Dave', 'Sheng', \n",
    "                'Claire', 'Akshay', 'Catherine', 'Rhonda', 'Emily']\n",
    "    py_genders = ['male', 'female', 'male', 'male', 'male',\n",
    "                  'female', 'male', 'female', 'female', 'female']\n",
    "\n",
    "    for name, gender in zip(py_names, py_genders):\n",
    "        gender_guess = classifier.classify(func(name))\n",
    "        if gender_guess != gender:\n",
    "            print \"Incorrectly classified: {:<8}\".format(name)\n",
    "    print \"\\n\"\n",
    "            \n",
    "test_our_class(classifier, first_letter)"
   ]
  },
  {
   "cell_type": "markdown",
   "metadata": {},
   "source": [
    "Let's define a new feature function.  I think women have more vowels in their names than men, and that the last letter might also help us discriminate."
   ]
  },
  {
   "cell_type": "code",
   "execution_count": 167,
   "metadata": {
    "collapsed": true
   },
   "outputs": [],
   "source": [
    "def ends_and_vowels(name):\n",
    "    n_vowels = sum(map(name.lower().count, \"aeiou\"))\n",
    "    vowel_decile = int(10*n_vowels / float(len(name)))\n",
    "    return {'first_letter': name[0],\n",
    "            'last_letter':name[-1],\n",
    "            'vowel_decile':vowel_decile}"
   ]
  },
  {
   "cell_type": "markdown",
   "metadata": {},
   "source": [
    "I'll write a quick function to show accuracythe of our two classifiers."
   ]
  },
  {
   "cell_type": "code",
   "execution_count": 168,
   "metadata": {
    "collapsed": true
   },
   "outputs": [],
   "source": [
    "def naive_bayes(test_set, train_set, func):     \n",
    "    classifier = nltk.NaiveBayesClassifier.train(train_set) \n",
    "    accuracy = nltk.classify.accuracy(classifier, test_set)\n",
    "    print \"Naive Bayes accuracy: {:0.2}\".format(accuracy)\n",
    "    return classifier, accuracy\n",
    "\n",
    "def decision_tree(test_set, train_set, func):    \n",
    "    classifier = nltk.DecisionTreeClassifier.train(train_set)\n",
    "    accuracy = nltk.classify.accuracy(classifier, test_set)\n",
    "    print \"Decision Tree accuracy: {:0.2}\".format(accuracy)\n",
    "    return classifier, accuracy"
   ]
  },
  {
   "cell_type": "markdown",
   "metadata": {},
   "source": [
    "Now let's see how much better this classifier is."
   ]
  },
  {
   "cell_type": "code",
   "execution_count": 177,
   "metadata": {
    "collapsed": false
   },
   "outputs": [
    {
     "name": "stdout",
     "output_type": "stream",
     "text": [
      "Naive Bayes accuracy: 0.74\n",
      "Incorrectly classified: Akshay  \n",
      "\n",
      "\n",
      "Decision Tree accuracy: 0.74\n",
      "Incorrectly classified: Akshay  \n",
      "\n",
      "\n"
     ]
    }
   ],
   "source": [
    "seed(2) # So the class has matching results\n",
    "func = ends_and_vowels\n",
    "test_set, train_set = label_names(boys, girls, func)\n",
    "\n",
    "classifier, accuracy = naive_bayes(test_set, train_set, func)\n",
    "test_our_class(classifier, func)\n",
    "\n",
    "classifier, accuracy = decision_tree(test_set, train_set, func)\n",
    "test_our_class(classifier, func)"
   ]
  }
 ],
 "metadata": {
  "anaconda-cloud": {},
  "kernelspec": {
   "display_name": "Python [conda env:python-class]",
   "language": "python",
   "name": "conda-env-python-class-py"
  },
  "language_info": {
   "codemirror_mode": {
    "name": "ipython",
    "version": 2
   },
   "file_extension": ".py",
   "mimetype": "text/x-python",
   "name": "python",
   "nbconvert_exporter": "python",
   "pygments_lexer": "ipython2",
   "version": "2.7.13"
  }
 },
 "nbformat": 4,
 "nbformat_minor": 1
}
