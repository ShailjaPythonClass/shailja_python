{
 "cells": [
  {
   "cell_type": "markdown",
   "metadata": {},
   "source": [
    "This week we are all working on the nlok project we started last week.  We will break into groups, each lead by someone who has git installed on their computer.\n",
    "\n",
    "Integration:\n",
    "    Ensure that the groups' contributions work together and are in git properly.\n",
    "Alternate Classifiers\n",
    "    Use other classifiers (or better parameters) from scikit learn and nltk to classify better.\n",
    "Alternate Features\n",
    "    Parse the names in new ways to determine if there are better characteristics  than first letter.\n",
    "More Representative Data\n",
    "    Find better data sets to train our models.\n",
    "Scoring\n",
    "    Compare approaches and combinations of candidates.  Measure effectiveness of each candidate improvement."
   ]
  },
  {
   "cell_type": "markdown",
   "metadata": {},
   "source": [
    "Our class repository is located at https://github.com/herrGagen/shailja_python.\n",
    "\n",
    "We'll do a simple live git demo to get the code, and work from there."
   ]
  }
 ],
 "metadata": {
  "anaconda-cloud": {},
  "kernelspec": {
   "display_name": "Python [conda env:python-class]",
   "language": "python",
   "name": "conda-env-python-class-py"
  },
  "language_info": {
   "codemirror_mode": {
    "name": "ipython",
    "version": 2
   },
   "file_extension": ".py",
   "mimetype": "text/x-python",
   "name": "python",
   "nbconvert_exporter": "python",
   "pygments_lexer": "ipython2",
   "version": "2.7.13"
  }
 },
 "nbformat": 4,
 "nbformat_minor": 1
}
