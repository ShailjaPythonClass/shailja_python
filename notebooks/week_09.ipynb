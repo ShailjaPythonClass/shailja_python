{
 "cells": [
  {
   "cell_type": "markdown",
   "metadata": {},
   "source": [
    "First let's load our data."
   ]
  },
  {
   "cell_type": "code",
   "execution_count": 13,
   "metadata": {
    "collapsed": false
   },
   "outputs": [],
   "source": [
    "import pandas as pd\n",
    "\n",
    "from statsmodels.formula.api import ols\n",
    "\n",
    "merged = pd.read_csv('./data/merged.csv')"
   ]
  },
  {
   "cell_type": "markdown",
   "metadata": {},
   "source": [
    "Now let's fit with a least squares model."
   ]
  },
  {
   "cell_type": "code",
   "execution_count": 14,
   "metadata": {
    "collapsed": false
   },
   "outputs": [
    {
     "name": "stdout",
     "output_type": "stream",
     "text": [
      "                            OLS Regression Results                            \n",
      "==============================================================================\n",
      "Dep. Variable:               logerror   R-squared:                       0.000\n",
      "Model:                            OLS   Adj. R-squared:                  0.000\n",
      "Method:                 Least Squares   F-statistic:                     2.960\n",
      "Date:                Wed, 07 Jun 2017   Prob (F-statistic):             0.0309\n",
      "Time:                        15:48:21   Log-Likelihood:                 23902.\n",
      "No. Observations:               55865   AIC:                        -4.780e+04\n",
      "Df Residuals:                   55861   BIC:                        -4.776e+04\n",
      "Df Model:                           3                                         \n",
      "Covariance Type:            nonrobust                                         \n",
      "==========================================================================================\n",
      "                             coef    std err          t      P>|t|      [95.0% Conf. Int.]\n",
      "------------------------------------------------------------------------------------------\n",
      "Intercept                  0.0110      0.001     13.663      0.000         0.009     0.013\n",
      "hashottuborspa[T.True]    -0.0116      0.004     -2.700      0.007        -0.020    -0.003\n",
      "fireplacecnt              -0.0006      0.002     -0.326      0.744        -0.005     0.003\n",
      "garagecarcnt               0.0014      0.001      1.576      0.115        -0.000     0.003\n",
      "==============================================================================\n",
      "Omnibus:                    31347.086   Durbin-Watson:                   1.990\n",
      "Prob(Omnibus):                  0.000   Jarque-Bera (JB):         43063534.392\n",
      "Skew:                           1.166   Prob(JB):                         0.00\n",
      "Kurtosis:                     138.996   Cond. No.                         8.44\n",
      "==============================================================================\n",
      "\n",
      "Warnings:\n",
      "[1] Standard Errors assume that the covariance matrix of the errors is correctly specified.\n"
     ]
    }
   ],
   "source": [
    "categorical_cols =  ['airconditioningtypeid',\n",
    "                     'architecturalstyletypeid',\n",
    "                     'buildingqualitytypeid',\n",
    "                     'decktypeid',\n",
    "                     'fips',\n",
    "                     'fireplacecnt',\n",
    "                     'garagecarcnt',\n",
    "                     'hashottuborspa',\n",
    "                     'poolcnt',\n",
    "                     'has_spa',\n",
    "                     'has_pool_and_spa',\n",
    "                     'has_pool_only',\n",
    "                     'regionidcounty',\n",
    "                     'threequarterbathnbr',\n",
    "                     'unitcnt',\n",
    "                     'numberofstories',\n",
    "                     'fireplaceflag',\n",
    "                     'taxdelinquencyflag',\n",
    "                     'transaction_year']\n",
    "\n",
    "formula = 'logerror ~ fireplacecnt + garagecarcnt + hashottuborspa'\n",
    "\n",
    "linear_fitter = ols(formula, merged)\n",
    "model = linear_fitter.fit()\n",
    "model.summary()"
   ]
  },
  {
   "cell_type": "markdown",
   "metadata": {},
   "source": [
    "We need to discuss regularization, a process that helps answer the question \"which parameters should we use?\" and \"how do I avoid overfitting?\""
   ]
  },
  {
   "cell_type": "code",
   "execution_count": 16,
   "metadata": {
    "collapsed": false
   },
   "outputs": [
    {
     "data": {
      "text/html": [
       "<table class=\"simpletable\">\n",
       "<caption>OLS Regression Results</caption>\n",
       "<tr>\n",
       "  <th>Dep. Variable:</th>        <td>logerror</td>     <th>  R-squared:         </th>  <td>   0.000</td> \n",
       "</tr>\n",
       "<tr>\n",
       "  <th>Model:</th>                   <td>OLS</td>       <th>  Adj. R-squared:    </th>  <td>   0.000</td> \n",
       "</tr>\n",
       "<tr>\n",
       "  <th>Method:</th>             <td>Least Squares</td>  <th>  F-statistic:       </th>  <td>   2.586</td> \n",
       "</tr>\n",
       "<tr>\n",
       "  <th>Date:</th>             <td>Wed, 07 Jun 2017</td> <th>  Prob (F-statistic):</th>   <td>0.0513</td>  \n",
       "</tr>\n",
       "<tr>\n",
       "  <th>Time:</th>                 <td>15:55:58</td>     <th>  Log-Likelihood:    </th>  <td>  23902.</td> \n",
       "</tr>\n",
       "<tr>\n",
       "  <th>No. Observations:</th>      <td> 55865</td>      <th>  AIC:               </th> <td>-4.780e+04</td>\n",
       "</tr>\n",
       "<tr>\n",
       "  <th>Df Residuals:</th>          <td> 55861</td>      <th>  BIC:               </th> <td>-4.776e+04</td>\n",
       "</tr>\n",
       "<tr>\n",
       "  <th>Df Model:</th>              <td>     3</td>      <th>                     </th>      <td> </td>    \n",
       "</tr>\n",
       "<tr>\n",
       "  <th>Covariance Type:</th>      <td>nonrobust</td>    <th>                     </th>      <td> </td>    \n",
       "</tr>\n",
       "</table>\n",
       "<table class=\"simpletable\">\n",
       "<tr>\n",
       "             <td></td>               <th>coef</th>     <th>std err</th>      <th>t</th>      <th>P>|t|</th> <th>[95.0% Conf. Int.]</th> \n",
       "</tr>\n",
       "<tr>\n",
       "  <th>Intercept</th>              <td>    0.0109</td> <td>    0.001</td> <td>   13.526</td> <td> 0.000</td> <td>    0.009     0.012</td>\n",
       "</tr>\n",
       "<tr>\n",
       "  <th>hashottuborspa[T.True]</th> <td>   -0.0072</td> <td>    0.004</td> <td>   -1.690</td> <td> 0.091</td> <td>   -0.016     0.001</td>\n",
       "</tr>\n",
       "<tr>\n",
       "  <th>fireplacecnt</th>           <td>         0</td> <td>        0</td> <td>      nan</td> <td>   nan</td> <td>        0         0</td>\n",
       "</tr>\n",
       "<tr>\n",
       "  <th>garagecarcnt</th>           <td>    0.0011</td> <td>    0.001</td> <td>    1.432</td> <td> 0.152</td> <td>   -0.000     0.003</td>\n",
       "</tr>\n",
       "</table>\n",
       "<table class=\"simpletable\">\n",
       "<tr>\n",
       "  <th>Omnibus:</th>       <td>31340.757</td> <th>  Durbin-Watson:     </th>   <td>   1.990</td>  \n",
       "</tr>\n",
       "<tr>\n",
       "  <th>Prob(Omnibus):</th>  <td> 0.000</td>   <th>  Jarque-Bera (JB):  </th> <td>43062068.309</td>\n",
       "</tr>\n",
       "<tr>\n",
       "  <th>Skew:</th>           <td> 1.165</td>   <th>  Prob(JB):          </th>   <td>    0.00</td>  \n",
       "</tr>\n",
       "<tr>\n",
       "  <th>Kurtosis:</th>       <td>138.994</td>  <th>  Cond. No.          </th>   <td>    8.44</td>  \n",
       "</tr>\n",
       "</table>"
      ],
      "text/plain": [
       "<class 'statsmodels.iolib.summary.Summary'>\n",
       "\"\"\"\n",
       "                            OLS Regression Results                            \n",
       "==============================================================================\n",
       "Dep. Variable:               logerror   R-squared:                       0.000\n",
       "Model:                            OLS   Adj. R-squared:                  0.000\n",
       "Method:                 Least Squares   F-statistic:                     2.586\n",
       "Date:                Wed, 07 Jun 2017   Prob (F-statistic):             0.0513\n",
       "Time:                        15:55:58   Log-Likelihood:                 23902.\n",
       "No. Observations:               55865   AIC:                        -4.780e+04\n",
       "Df Residuals:                   55861   BIC:                        -4.776e+04\n",
       "Df Model:                           3                                         \n",
       "Covariance Type:            nonrobust                                         \n",
       "==========================================================================================\n",
       "                             coef    std err          t      P>|t|      [95.0% Conf. Int.]\n",
       "------------------------------------------------------------------------------------------\n",
       "Intercept                  0.0109      0.001     13.526      0.000         0.009     0.012\n",
       "hashottuborspa[T.True]    -0.0072      0.004     -1.690      0.091        -0.016     0.001\n",
       "fireplacecnt                    0          0        nan        nan             0         0\n",
       "garagecarcnt               0.0011      0.001      1.432      0.152        -0.000     0.003\n",
       "==============================================================================\n",
       "Omnibus:                    31340.757   Durbin-Watson:                   1.990\n",
       "Prob(Omnibus):                  0.000   Jarque-Bera (JB):         43062068.309\n",
       "Skew:                           1.165   Prob(JB):                         0.00\n",
       "Kurtosis:                     138.994   Cond. No.                         8.44\n",
       "==============================================================================\n",
       "\n",
       "Warnings:\n",
       "[1] Standard Errors assume that the covariance matrix of the errors is correctly specified.\n",
       "\"\"\""
      ]
     },
     "execution_count": 16,
     "metadata": {},
     "output_type": "execute_result"
    }
   ],
   "source": [
    "linear_fitter = ols(formula, merged)\n",
    "reg_model = linear_fitter.fit_regularized(alpha=1e-4, l1_wt=0.5)\n",
    "reg_model.summary()"
   ]
  }
 ],
 "metadata": {
  "anaconda-cloud": {},
  "kernelspec": {
   "display_name": "Python [conda env:python-class]",
   "language": "python",
   "name": "conda-env-python-class-py"
  },
  "language_info": {
   "codemirror_mode": {
    "name": "ipython",
    "version": 2
   },
   "file_extension": ".py",
   "mimetype": "text/x-python",
   "name": "python",
   "nbconvert_exporter": "python",
   "pygments_lexer": "ipython2",
   "version": "2.7.13"
  }
 },
 "nbformat": 4,
 "nbformat_minor": 1
}
